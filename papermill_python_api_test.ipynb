{
 "cells": [
  {
   "cell_type": "code",
   "execution_count": 1,
   "metadata": {},
   "outputs": [],
   "source": [
    "import papermill as pm"
   ]
  },
  {
   "cell_type": "code",
   "execution_count": 2,
   "metadata": {},
   "outputs": [
    {
     "data": {
      "text/plain": [
       "['PapermillException',\n",
       " 'PapermillExecutionError',\n",
       " '__builtins__',\n",
       " '__cached__',\n",
       " '__doc__',\n",
       " '__file__',\n",
       " '__loader__',\n",
       " '__name__',\n",
       " '__package__',\n",
       " '__path__',\n",
       " '__spec__',\n",
       " '__version__',\n",
       " 'absolute_import',\n",
       " 'division',\n",
       " 'engines',\n",
       " 'exceptions',\n",
       " 'execute',\n",
       " 'execute_notebook',\n",
       " 'iorw',\n",
       " 'log',\n",
       " 'parameterize',\n",
       " 'preprocess',\n",
       " 'print_function',\n",
       " 's3',\n",
       " 'translators',\n",
       " 'utils',\n",
       " 'version']"
      ]
     },
     "execution_count": 2,
     "metadata": {},
     "output_type": "execute_result"
    }
   ],
   "source": [
    "dir(pm)"
   ]
  },
  {
   "cell_type": "code",
   "execution_count": 4,
   "metadata": {},
   "outputs": [
    {
     "name": "stdout",
     "output_type": "stream",
     "text": [
      "Help on function execute_notebook in module papermill.execute:\n",
      "\n",
      "execute_notebook(input_path, output_path, parameters=None, engine_name=None, request_save_on_cell_execute=True, prepare_only=False, kernel_name=None, progress_bar=True, log_output=False, stdout_file=None, stderr_file=None, start_timeout=60, report_mode=False, cwd=None, **engine_kwargs)\n",
      "    Executes a single notebook locally.\n",
      "    \n",
      "    Parameters\n",
      "    ----------\n",
      "    input_path : str\n",
      "        Path to input notebook\n",
      "    output_path : str\n",
      "        Path to save executed notebook\n",
      "    parameters : dict, optional\n",
      "        Arbitrary keyword arguments to pass to the notebook parameters\n",
      "    engine_name : str, optional\n",
      "        Name of execution engine to use\n",
      "    request_save_on_cell_execute : bool, optional\n",
      "        Request save notebook after each cell execution\n",
      "    prepare_only : bool, optional\n",
      "        Flag to determine if execution should occur or not\n",
      "    kernel_name : str, optional\n",
      "        Name of kernel to execute the notebook against\n",
      "    progress_bar : bool, optional\n",
      "        Flag for whether or not to show the progress bar.\n",
      "    log_output : bool, optional\n",
      "        Flag for whether or not to write notebook output to the configured logger\n",
      "    start_timeout : int, optional\n",
      "        Duration in seconds to wait for kernel start-up\n",
      "    report_mode : bool, optional\n",
      "        Flag for whether or not to hide input.\n",
      "    cwd : str, optional\n",
      "        Working directory to use when executing the notebook\n",
      "    **kwargs\n",
      "        Arbitrary keyword arguments to pass to the notebook engine\n",
      "    \n",
      "    Returns\n",
      "    -------\n",
      "    nb : NotebookNode\n",
      "       Executed notebook object\n",
      "\n"
     ]
    }
   ],
   "source": [
    "help(pm.execute_notebook)"
   ]
  },
  {
   "cell_type": "code",
   "execution_count": null,
   "metadata": {},
   "outputs": [],
   "source": [
    "pm.execute_notebook(./)"
   ]
  },
  {
   "cell_type": "code",
   "execution_count": null,
   "metadata": {},
   "outputs": [],
   "source": []
  }
 ],
 "metadata": {
  "kernelspec": {
   "display_name": "papermill",
   "language": "python",
   "name": "papermill"
  },
  "language_info": {
   "codemirror_mode": {
    "name": "ipython",
    "version": 3
   },
   "file_extension": ".py",
   "mimetype": "text/x-python",
   "name": "python",
   "nbconvert_exporter": "python",
   "pygments_lexer": "ipython3",
   "version": "3.7.5"
  }
 },
 "nbformat": 4,
 "nbformat_minor": 4
}
